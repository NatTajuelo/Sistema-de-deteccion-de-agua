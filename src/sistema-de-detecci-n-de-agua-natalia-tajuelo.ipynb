{
 "cells": [
  {
   "cell_type": "code",
   "execution_count": 3,
   "metadata": {
    "_cell_guid": "b1076dfc-b9ad-4769-8c92-a6c4dae69d19",
    "_uuid": "8f2839f25d086af736a60e9eeb907d3b93b6e0e5",
    "trusted": true
   },
   "outputs": [],
   "source": [
    "import numpy as np \n",
    "import pandas as pd \n",
    "import os\n",
    "for dirname, _, filenames in os.walk('/kaggle/input'):\n",
    "    for filename in filenames:\n",
    "        print(os.path.join(dirname, filename))\n",
    "import seaborn as sns\n",
    "import matplotlib.pyplot as plt\n",
    "from sklearn.metrics import mean_absolute_error, mean_squared_error\n",
    "import math\n",
    "import warnings\n",
    "warnings.filterwarnings('ignore')\n",
    "from datetime import datetime, date \n",
    "from statsmodels.tsa.stattools import adfuller\n",
    "from statsmodels.tsa.seasonal import seasonal_decompose\n",
    "from statsmodels.graphics.tsaplots import plot_acf, plot_pacf\n",
    "from sklearn.model_selection import TimeSeriesSplit\n"
   ]
  },
  {
   "cell_type": "markdown",
   "metadata": {},
   "source": [
    "# 1. Reading the data collection "
   ]
  },
  {
   "cell_type": "code",
   "execution_count": 4,
   "metadata": {
    "trusted": true
   },
   "outputs": [
    {
     "ename": "FileNotFoundError",
     "evalue": "[Errno 2] No such file or directory: '../input/acea-water-prediction/Aquifer_Petrignano.csv'",
     "output_type": "error",
     "traceback": [
      "\u001b[0;31m---------------------------------------------------------------------------\u001b[0m",
      "\u001b[0;31mFileNotFoundError\u001b[0m                         Traceback (most recent call last)",
      "Cell \u001b[0;32mIn[4], line 1\u001b[0m\n\u001b[0;32m----> 1\u001b[0m total_data \u001b[38;5;241m=\u001b[39m \u001b[43mpd\u001b[49m\u001b[38;5;241;43m.\u001b[39;49m\u001b[43mread_csv\u001b[49m\u001b[43m(\u001b[49m\u001b[38;5;124;43m\"\u001b[39;49m\u001b[38;5;124;43m../input/acea-water-prediction/Aquifer_Petrignano.csv\u001b[39;49m\u001b[38;5;124;43m\"\u001b[39;49m\u001b[43m)\u001b[49m\n\u001b[1;32m      2\u001b[0m total_data\u001b[38;5;241m.\u001b[39mhead(\u001b[38;5;241m5\u001b[39m)\n",
      "File \u001b[0;32m/workspace/.pyenv_mirror/user/current/lib/python3.12/site-packages/pandas/io/parsers/readers.py:1026\u001b[0m, in \u001b[0;36mread_csv\u001b[0;34m(filepath_or_buffer, sep, delimiter, header, names, index_col, usecols, dtype, engine, converters, true_values, false_values, skipinitialspace, skiprows, skipfooter, nrows, na_values, keep_default_na, na_filter, verbose, skip_blank_lines, parse_dates, infer_datetime_format, keep_date_col, date_parser, date_format, dayfirst, cache_dates, iterator, chunksize, compression, thousands, decimal, lineterminator, quotechar, quoting, doublequote, escapechar, comment, encoding, encoding_errors, dialect, on_bad_lines, delim_whitespace, low_memory, memory_map, float_precision, storage_options, dtype_backend)\u001b[0m\n\u001b[1;32m   1013\u001b[0m kwds_defaults \u001b[38;5;241m=\u001b[39m _refine_defaults_read(\n\u001b[1;32m   1014\u001b[0m     dialect,\n\u001b[1;32m   1015\u001b[0m     delimiter,\n\u001b[0;32m   (...)\u001b[0m\n\u001b[1;32m   1022\u001b[0m     dtype_backend\u001b[38;5;241m=\u001b[39mdtype_backend,\n\u001b[1;32m   1023\u001b[0m )\n\u001b[1;32m   1024\u001b[0m kwds\u001b[38;5;241m.\u001b[39mupdate(kwds_defaults)\n\u001b[0;32m-> 1026\u001b[0m \u001b[38;5;28;01mreturn\u001b[39;00m \u001b[43m_read\u001b[49m\u001b[43m(\u001b[49m\u001b[43mfilepath_or_buffer\u001b[49m\u001b[43m,\u001b[49m\u001b[43m \u001b[49m\u001b[43mkwds\u001b[49m\u001b[43m)\u001b[49m\n",
      "File \u001b[0;32m/workspace/.pyenv_mirror/user/current/lib/python3.12/site-packages/pandas/io/parsers/readers.py:620\u001b[0m, in \u001b[0;36m_read\u001b[0;34m(filepath_or_buffer, kwds)\u001b[0m\n\u001b[1;32m    617\u001b[0m _validate_names(kwds\u001b[38;5;241m.\u001b[39mget(\u001b[38;5;124m\"\u001b[39m\u001b[38;5;124mnames\u001b[39m\u001b[38;5;124m\"\u001b[39m, \u001b[38;5;28;01mNone\u001b[39;00m))\n\u001b[1;32m    619\u001b[0m \u001b[38;5;66;03m# Create the parser.\u001b[39;00m\n\u001b[0;32m--> 620\u001b[0m parser \u001b[38;5;241m=\u001b[39m \u001b[43mTextFileReader\u001b[49m\u001b[43m(\u001b[49m\u001b[43mfilepath_or_buffer\u001b[49m\u001b[43m,\u001b[49m\u001b[43m \u001b[49m\u001b[38;5;241;43m*\u001b[39;49m\u001b[38;5;241;43m*\u001b[39;49m\u001b[43mkwds\u001b[49m\u001b[43m)\u001b[49m\n\u001b[1;32m    622\u001b[0m \u001b[38;5;28;01mif\u001b[39;00m chunksize \u001b[38;5;129;01mor\u001b[39;00m iterator:\n\u001b[1;32m    623\u001b[0m     \u001b[38;5;28;01mreturn\u001b[39;00m parser\n",
      "File \u001b[0;32m/workspace/.pyenv_mirror/user/current/lib/python3.12/site-packages/pandas/io/parsers/readers.py:1620\u001b[0m, in \u001b[0;36mTextFileReader.__init__\u001b[0;34m(self, f, engine, **kwds)\u001b[0m\n\u001b[1;32m   1617\u001b[0m     \u001b[38;5;28mself\u001b[39m\u001b[38;5;241m.\u001b[39moptions[\u001b[38;5;124m\"\u001b[39m\u001b[38;5;124mhas_index_names\u001b[39m\u001b[38;5;124m\"\u001b[39m] \u001b[38;5;241m=\u001b[39m kwds[\u001b[38;5;124m\"\u001b[39m\u001b[38;5;124mhas_index_names\u001b[39m\u001b[38;5;124m\"\u001b[39m]\n\u001b[1;32m   1619\u001b[0m \u001b[38;5;28mself\u001b[39m\u001b[38;5;241m.\u001b[39mhandles: IOHandles \u001b[38;5;241m|\u001b[39m \u001b[38;5;28;01mNone\u001b[39;00m \u001b[38;5;241m=\u001b[39m \u001b[38;5;28;01mNone\u001b[39;00m\n\u001b[0;32m-> 1620\u001b[0m \u001b[38;5;28mself\u001b[39m\u001b[38;5;241m.\u001b[39m_engine \u001b[38;5;241m=\u001b[39m \u001b[38;5;28;43mself\u001b[39;49m\u001b[38;5;241;43m.\u001b[39;49m\u001b[43m_make_engine\u001b[49m\u001b[43m(\u001b[49m\u001b[43mf\u001b[49m\u001b[43m,\u001b[49m\u001b[43m \u001b[49m\u001b[38;5;28;43mself\u001b[39;49m\u001b[38;5;241;43m.\u001b[39;49m\u001b[43mengine\u001b[49m\u001b[43m)\u001b[49m\n",
      "File \u001b[0;32m/workspace/.pyenv_mirror/user/current/lib/python3.12/site-packages/pandas/io/parsers/readers.py:1880\u001b[0m, in \u001b[0;36mTextFileReader._make_engine\u001b[0;34m(self, f, engine)\u001b[0m\n\u001b[1;32m   1878\u001b[0m     \u001b[38;5;28;01mif\u001b[39;00m \u001b[38;5;124m\"\u001b[39m\u001b[38;5;124mb\u001b[39m\u001b[38;5;124m\"\u001b[39m \u001b[38;5;129;01mnot\u001b[39;00m \u001b[38;5;129;01min\u001b[39;00m mode:\n\u001b[1;32m   1879\u001b[0m         mode \u001b[38;5;241m+\u001b[39m\u001b[38;5;241m=\u001b[39m \u001b[38;5;124m\"\u001b[39m\u001b[38;5;124mb\u001b[39m\u001b[38;5;124m\"\u001b[39m\n\u001b[0;32m-> 1880\u001b[0m \u001b[38;5;28mself\u001b[39m\u001b[38;5;241m.\u001b[39mhandles \u001b[38;5;241m=\u001b[39m \u001b[43mget_handle\u001b[49m\u001b[43m(\u001b[49m\n\u001b[1;32m   1881\u001b[0m \u001b[43m    \u001b[49m\u001b[43mf\u001b[49m\u001b[43m,\u001b[49m\n\u001b[1;32m   1882\u001b[0m \u001b[43m    \u001b[49m\u001b[43mmode\u001b[49m\u001b[43m,\u001b[49m\n\u001b[1;32m   1883\u001b[0m \u001b[43m    \u001b[49m\u001b[43mencoding\u001b[49m\u001b[38;5;241;43m=\u001b[39;49m\u001b[38;5;28;43mself\u001b[39;49m\u001b[38;5;241;43m.\u001b[39;49m\u001b[43moptions\u001b[49m\u001b[38;5;241;43m.\u001b[39;49m\u001b[43mget\u001b[49m\u001b[43m(\u001b[49m\u001b[38;5;124;43m\"\u001b[39;49m\u001b[38;5;124;43mencoding\u001b[39;49m\u001b[38;5;124;43m\"\u001b[39;49m\u001b[43m,\u001b[49m\u001b[43m \u001b[49m\u001b[38;5;28;43;01mNone\u001b[39;49;00m\u001b[43m)\u001b[49m\u001b[43m,\u001b[49m\n\u001b[1;32m   1884\u001b[0m \u001b[43m    \u001b[49m\u001b[43mcompression\u001b[49m\u001b[38;5;241;43m=\u001b[39;49m\u001b[38;5;28;43mself\u001b[39;49m\u001b[38;5;241;43m.\u001b[39;49m\u001b[43moptions\u001b[49m\u001b[38;5;241;43m.\u001b[39;49m\u001b[43mget\u001b[49m\u001b[43m(\u001b[49m\u001b[38;5;124;43m\"\u001b[39;49m\u001b[38;5;124;43mcompression\u001b[39;49m\u001b[38;5;124;43m\"\u001b[39;49m\u001b[43m,\u001b[49m\u001b[43m \u001b[49m\u001b[38;5;28;43;01mNone\u001b[39;49;00m\u001b[43m)\u001b[49m\u001b[43m,\u001b[49m\n\u001b[1;32m   1885\u001b[0m \u001b[43m    \u001b[49m\u001b[43mmemory_map\u001b[49m\u001b[38;5;241;43m=\u001b[39;49m\u001b[38;5;28;43mself\u001b[39;49m\u001b[38;5;241;43m.\u001b[39;49m\u001b[43moptions\u001b[49m\u001b[38;5;241;43m.\u001b[39;49m\u001b[43mget\u001b[49m\u001b[43m(\u001b[49m\u001b[38;5;124;43m\"\u001b[39;49m\u001b[38;5;124;43mmemory_map\u001b[39;49m\u001b[38;5;124;43m\"\u001b[39;49m\u001b[43m,\u001b[49m\u001b[43m \u001b[49m\u001b[38;5;28;43;01mFalse\u001b[39;49;00m\u001b[43m)\u001b[49m\u001b[43m,\u001b[49m\n\u001b[1;32m   1886\u001b[0m \u001b[43m    \u001b[49m\u001b[43mis_text\u001b[49m\u001b[38;5;241;43m=\u001b[39;49m\u001b[43mis_text\u001b[49m\u001b[43m,\u001b[49m\n\u001b[1;32m   1887\u001b[0m \u001b[43m    \u001b[49m\u001b[43merrors\u001b[49m\u001b[38;5;241;43m=\u001b[39;49m\u001b[38;5;28;43mself\u001b[39;49m\u001b[38;5;241;43m.\u001b[39;49m\u001b[43moptions\u001b[49m\u001b[38;5;241;43m.\u001b[39;49m\u001b[43mget\u001b[49m\u001b[43m(\u001b[49m\u001b[38;5;124;43m\"\u001b[39;49m\u001b[38;5;124;43mencoding_errors\u001b[39;49m\u001b[38;5;124;43m\"\u001b[39;49m\u001b[43m,\u001b[49m\u001b[43m \u001b[49m\u001b[38;5;124;43m\"\u001b[39;49m\u001b[38;5;124;43mstrict\u001b[39;49m\u001b[38;5;124;43m\"\u001b[39;49m\u001b[43m)\u001b[49m\u001b[43m,\u001b[49m\n\u001b[1;32m   1888\u001b[0m \u001b[43m    \u001b[49m\u001b[43mstorage_options\u001b[49m\u001b[38;5;241;43m=\u001b[39;49m\u001b[38;5;28;43mself\u001b[39;49m\u001b[38;5;241;43m.\u001b[39;49m\u001b[43moptions\u001b[49m\u001b[38;5;241;43m.\u001b[39;49m\u001b[43mget\u001b[49m\u001b[43m(\u001b[49m\u001b[38;5;124;43m\"\u001b[39;49m\u001b[38;5;124;43mstorage_options\u001b[39;49m\u001b[38;5;124;43m\"\u001b[39;49m\u001b[43m,\u001b[49m\u001b[43m \u001b[49m\u001b[38;5;28;43;01mNone\u001b[39;49;00m\u001b[43m)\u001b[49m\u001b[43m,\u001b[49m\n\u001b[1;32m   1889\u001b[0m \u001b[43m\u001b[49m\u001b[43m)\u001b[49m\n\u001b[1;32m   1890\u001b[0m \u001b[38;5;28;01massert\u001b[39;00m \u001b[38;5;28mself\u001b[39m\u001b[38;5;241m.\u001b[39mhandles \u001b[38;5;129;01mis\u001b[39;00m \u001b[38;5;129;01mnot\u001b[39;00m \u001b[38;5;28;01mNone\u001b[39;00m\n\u001b[1;32m   1891\u001b[0m f \u001b[38;5;241m=\u001b[39m \u001b[38;5;28mself\u001b[39m\u001b[38;5;241m.\u001b[39mhandles\u001b[38;5;241m.\u001b[39mhandle\n",
      "File \u001b[0;32m/workspace/.pyenv_mirror/user/current/lib/python3.12/site-packages/pandas/io/common.py:873\u001b[0m, in \u001b[0;36mget_handle\u001b[0;34m(path_or_buf, mode, encoding, compression, memory_map, is_text, errors, storage_options)\u001b[0m\n\u001b[1;32m    868\u001b[0m \u001b[38;5;28;01melif\u001b[39;00m \u001b[38;5;28misinstance\u001b[39m(handle, \u001b[38;5;28mstr\u001b[39m):\n\u001b[1;32m    869\u001b[0m     \u001b[38;5;66;03m# Check whether the filename is to be opened in binary mode.\u001b[39;00m\n\u001b[1;32m    870\u001b[0m     \u001b[38;5;66;03m# Binary mode does not support 'encoding' and 'newline'.\u001b[39;00m\n\u001b[1;32m    871\u001b[0m     \u001b[38;5;28;01mif\u001b[39;00m ioargs\u001b[38;5;241m.\u001b[39mencoding \u001b[38;5;129;01mand\u001b[39;00m \u001b[38;5;124m\"\u001b[39m\u001b[38;5;124mb\u001b[39m\u001b[38;5;124m\"\u001b[39m \u001b[38;5;129;01mnot\u001b[39;00m \u001b[38;5;129;01min\u001b[39;00m ioargs\u001b[38;5;241m.\u001b[39mmode:\n\u001b[1;32m    872\u001b[0m         \u001b[38;5;66;03m# Encoding\u001b[39;00m\n\u001b[0;32m--> 873\u001b[0m         handle \u001b[38;5;241m=\u001b[39m \u001b[38;5;28;43mopen\u001b[39;49m\u001b[43m(\u001b[49m\n\u001b[1;32m    874\u001b[0m \u001b[43m            \u001b[49m\u001b[43mhandle\u001b[49m\u001b[43m,\u001b[49m\n\u001b[1;32m    875\u001b[0m \u001b[43m            \u001b[49m\u001b[43mioargs\u001b[49m\u001b[38;5;241;43m.\u001b[39;49m\u001b[43mmode\u001b[49m\u001b[43m,\u001b[49m\n\u001b[1;32m    876\u001b[0m \u001b[43m            \u001b[49m\u001b[43mencoding\u001b[49m\u001b[38;5;241;43m=\u001b[39;49m\u001b[43mioargs\u001b[49m\u001b[38;5;241;43m.\u001b[39;49m\u001b[43mencoding\u001b[49m\u001b[43m,\u001b[49m\n\u001b[1;32m    877\u001b[0m \u001b[43m            \u001b[49m\u001b[43merrors\u001b[49m\u001b[38;5;241;43m=\u001b[39;49m\u001b[43merrors\u001b[49m\u001b[43m,\u001b[49m\n\u001b[1;32m    878\u001b[0m \u001b[43m            \u001b[49m\u001b[43mnewline\u001b[49m\u001b[38;5;241;43m=\u001b[39;49m\u001b[38;5;124;43m\"\u001b[39;49m\u001b[38;5;124;43m\"\u001b[39;49m\u001b[43m,\u001b[49m\n\u001b[1;32m    879\u001b[0m \u001b[43m        \u001b[49m\u001b[43m)\u001b[49m\n\u001b[1;32m    880\u001b[0m     \u001b[38;5;28;01melse\u001b[39;00m:\n\u001b[1;32m    881\u001b[0m         \u001b[38;5;66;03m# Binary mode\u001b[39;00m\n\u001b[1;32m    882\u001b[0m         handle \u001b[38;5;241m=\u001b[39m \u001b[38;5;28mopen\u001b[39m(handle, ioargs\u001b[38;5;241m.\u001b[39mmode)\n",
      "\u001b[0;31mFileNotFoundError\u001b[0m: [Errno 2] No such file or directory: '../input/acea-water-prediction/Aquifer_Petrignano.csv'"
     ]
    }
   ],
   "source": [
    "total_data = pd.read_csv(\"../input/acea-water-prediction/Aquifer_Petrignano.csv\")\n",
    "total_data.head(5)"
   ]
  },
  {
   "cell_type": "markdown",
   "metadata": {},
   "source": [
    "# 2. Cleaning the dataframe"
   ]
  },
  {
   "cell_type": "code",
   "execution_count": null,
   "metadata": {
    "trusted": true
   },
   "outputs": [],
   "source": [
    "#Remove columns with Nan values and others we won't use\n",
    "total_data = total_data[total_data.Rainfall_Bastia_Umbra.notna()].reset_index(drop=True)\n",
    "total_data = total_data.drop(['Depth_to_Groundwater_P24', 'Temperature_Petrignano'], axis=1)"
   ]
  },
  {
   "cell_type": "code",
   "execution_count": null,
   "metadata": {
    "trusted": true
   },
   "outputs": [],
   "source": [
    "#Lowering the names of the columns\n",
    "total_data.columns = ['date', 'rainfall', 'depth_to_groundwater', 'temperature', 'drainage_volume', 'river_hydrometry']\n",
    "target = ['depth_to_groundwater']\n",
    "values = [value for value in total_data.columns if value not in target]\n",
    "total_data.head(5)"
   ]
  },
  {
   "cell_type": "code",
   "execution_count": null,
   "metadata": {
    "trusted": true
   },
   "outputs": [],
   "source": [
    "#Since we are working with a time series, we need to transfor the dataframe\n",
    "total_data['date'] = pd.to_datetime(total_data['date'], format = '%d/%m/%Y')\n",
    "new_data = total_data.set_index('date')\n",
    "new_data.head(5)"
   ]
  },
  {
   "cell_type": "markdown",
   "metadata": {},
   "source": [
    "# 3. Visualization of the information"
   ]
  },
  {
   "cell_type": "code",
   "execution_count": null,
   "metadata": {
    "trusted": true
   },
   "outputs": [],
   "source": [
    "fig, ax = plt.subplots(5, 1, figsize = (14, 24))\n",
    "fig.suptitle(\"Evolution\", fontsize=16)\n",
    "\n",
    "for i, column in enumerate(total_data.drop('date', axis=1).columns):\n",
    "    sns.lineplot(x=total_data['date'], y=total_data[column].fillna(method='ffill'), ax=ax[i], color='orange')\n",
    "    ax[i].set_title('Caracteristic: {}'.format(column), fontsize=14)\n",
    "    ax[i].set_ylabel(ylabel=column, fontsize=14)\n",
    "\n",
    "plt.tight_layout()\n",
    "plt.show()"
   ]
  },
  {
   "cell_type": "markdown",
   "metadata": {},
   "source": [
    "# 4. Processing the data"
   ]
  },
  {
   "cell_type": "code",
   "execution_count": null,
   "metadata": {
    "trusted": true
   },
   "outputs": [],
   "source": [
    "total_data = total_data.sort_values(by='date')\n",
    "total_data['delta'] = total_data['date'] - total_data['date'].shift(1)\n",
    "total_data[['date', 'delta']].head()"
   ]
  },
  {
   "cell_type": "code",
   "execution_count": null,
   "metadata": {
    "trusted": true
   },
   "outputs": [],
   "source": [
    "total_data['delta'].sum(), total_data['delta'].count()"
   ]
  },
  {
   "cell_type": "code",
   "execution_count": null,
   "metadata": {
    "trusted": true
   },
   "outputs": [],
   "source": [
    "total_data = total_data.drop('delta', axis=1)\n",
    "total_data.isna().sum()"
   ]
  },
  {
   "cell_type": "code",
   "execution_count": null,
   "metadata": {
    "trusted": true
   },
   "outputs": [],
   "source": [
    "f, ax = plt.subplots(2, 1, figsize=(15, 15))\n",
    "\n",
    "pre_hydrometry = total_data['river_hydrometry'].copy()\n",
    "total_data['river_hydrometry'] = total_data['river_hydrometry'].replace(0, np.nan)\n",
    "\n",
    "sns.lineplot(x=total_data['date'], y=pre_hydrometry, ax=ax[0], color='blue', label='original')\n",
    "sns.lineplot(x=total_data['date'], y=total_data['river_hydrometry'].fillna(np.inf), ax=ax[0], color='orange', label='modified')\n",
    "ax[0].set_title('Characteristic: Hydrometry', fontsize=14)\n",
    "ax[0].set_ylabel(ylabel='Hydrometry', fontsize=14)\n",
    "ax[0].set_xlim([date(2009, 1, 1), date(2020, 6, 30)])\n",
    "\n",
    "pre_drainage = total_data['drainage_volume'].copy()\n",
    "total_data['drainage_volume'] = total_data['drainage_volume'].replace(0, np.nan)\n",
    "\n",
    "sns.lineplot(x=total_data['date'], y=pre_drainage, ax=ax[1], color='green', label='original')\n",
    "sns.lineplot(x=total_data['date'], y=total_data['drainage_volume'].fillna(np.inf), ax=ax[1], color='orange', label='modified')\n",
    "ax[1].set_title('Characteristic: Drainage', fontsize=14)\n",
    "ax[1].set_ylabel(ylabel='Drainage', fontsize=14)\n",
    "ax[1].set_xlim([date(2009, 1, 1), date(2020, 6, 30)])"
   ]
  },
  {
   "cell_type": "code",
   "execution_count": null,
   "metadata": {
    "trusted": true
   },
   "outputs": [],
   "source": [
    "#For the missing values, we'll interpolate them\n",
    "total_data['drainage_volume'] = total_data['drainage_volume'].interpolate()\n",
    "total_data['river_hydrometry'] = total_data['river_hydrometry'].interpolate()\n",
    "total_data['depth_to_groundwater'] = total_data['depth_to_groundwater'].interpolate()"
   ]
  },
  {
   "cell_type": "code",
   "execution_count": null,
   "metadata": {
    "trusted": true
   },
   "outputs": [],
   "source": [
    "fig, ax = plt.subplots(2, 3, figsize=(18, 15)) \n",
    "\n",
    "# First Column: Drainage Volume\n",
    "sns.lineplot(x='date', y='drainage_volume', data=total_data, color='blue', ax=ax[0, 0])\n",
    "ax[0, 0].set_title('Drainage', fontsize=14)\n",
    "\n",
    "# Weekly Drainage\n",
    "resampled_weekly = total_data[['date', 'drainage_volume']].resample('7D', on='date').sum().reset_index()\n",
    "sns.lineplot(x='date', y='drainage_volume', data=resampled_weekly, color='orange', ax=ax[1, 0])\n",
    "ax[1, 0].set_title('Weekly Drainage', fontsize=14)\n",
    "\n",
    "# Monthly Drainage\n",
    "resampled_monthly = total_data[['date', 'drainage_volume']].resample('M', on='date').sum().reset_index()\n",
    "sns.lineplot(x='date', y='drainage_volume', data=resampled_monthly, color='green', ax=ax[0, 1])  # Changed to fit within the grid\n",
    "ax[0, 1].set_title('Monthly Drainage', fontsize=14)\n",
    "\n",
    "# Adjust date range for the first column\n",
    "for i in range(2):  # Loop over the first column (ax[0, 0] and ax[1, 0])\n",
    "    ax[i, 0].set_xlim([date(2009, 1, 1), date(2020, 6, 30)])\n",
    "\n",
    "# Second Column: Temperature\n",
    "sns.lineplot(x='date', y='temperature', data=total_data, color='pink', ax=ax[1, 1])  # Corrected placement\n",
    "ax[1, 1].set_title('Daily Temperature', fontsize=14)\n",
    "\n",
    "# Weekly Temperature\n",
    "resampled_temp_weekly = total_data[['date', 'temperature']].resample('7D', on='date').mean().reset_index()\n",
    "sns.lineplot(x='date', y='temperature', data=resampled_temp_weekly, color='red', ax=ax[0, 2])  # Adjusted grid placement\n",
    "ax[0, 2].set_title('Weekly Temperature', fontsize=14)\n",
    "\n",
    "# Monthly Temperature\n",
    "resampled_temp_monthly = total_data[['date', 'temperature']].resample('M', on='date').mean().reset_index()\n",
    "sns.lineplot(x='date', y='temperature', data=resampled_temp_monthly, color='yellow', ax=ax[1, 2])  # Adjusted grid placement\n",
    "ax[1, 2].set_title('Monthly Temperature', fontsize=14)\n",
    "\n",
    "# Adjust date range for the second column\n",
    "for i in range(2):  # Loop over the second column (ax[0, 1] and ax[1, 1])\n",
    "    ax[i, 1].set_xlim([date(2009, 1, 1), date(2020, 6, 30)])\n",
    "\n",
    "plt.tight_layout()\n",
    "plt.show()"
   ]
  },
  {
   "cell_type": "code",
   "execution_count": null,
   "metadata": {
    "trusted": true
   },
   "outputs": [],
   "source": [
    "downsample = total_data[['date',\n",
    "                 'depth_to_groundwater', \n",
    "                 'temperature',\n",
    "                 'drainage_volume', \n",
    "                 'river_hydrometry',\n",
    "                 'rainfall'\n",
    "                ]].resample('7D', on='date').mean().reset_index(drop=False)\n",
    "\n",
    "total_data = downsample.copy()"
   ]
  },
  {
   "cell_type": "code",
   "execution_count": null,
   "metadata": {
    "trusted": true
   },
   "outputs": [],
   "source": [
    "rolling_window = 52\n",
    "f, ax = plt.subplots(2, 1, figsize=(15, 12))\n",
    "\n",
    "sns.lineplot(x=total_data['date'], y=total_data['drainage_volume'], ax=ax[0], color='blue')\n",
    "sns.lineplot(x=total_data['date'], y=total_data['drainage_volume'].rolling(rolling_window).mean(), ax=ax[0], color='black', label='rolling mean')\n",
    "sns.lineplot(x=total_data['date'], y=total_data['drainage_volume'].rolling(rolling_window).std(), ax=ax[0], color='orange', label='rolling std')\n",
    "ax[0].set_title('Depth to Groundwater', fontsize=14)\n",
    "ax[0].set_ylabel(ylabel='Drainage Volume', fontsize=14)\n",
    "ax[0].set_xlim([date(2009, 1, 1), date(2020, 6, 30)])\n",
    "\n",
    "sns.lineplot(x=total_data['date'], y=total_data['temperature'], ax=ax[1], color='pink')\n",
    "sns.lineplot(x=total_data['date'], y=total_data['temperature'].rolling(rolling_window).mean(), ax=ax[1], color='black', label='rolling mean')\n",
    "sns.lineplot(x=total_data['date'], y=total_data['temperature'].rolling(rolling_window).std(), ax=ax[1], color='orange', label='rolling std')\n",
    "ax[1].set_title('Temperature', fontsize=14)\n",
    "ax[1].set_ylabel(ylabel='Temperature', fontsize=14)\n",
    "ax[1].set_xlim([date(2009, 1, 1), date(2020, 6, 30)])\n",
    "\n",
    "plt.tight_layout()\n",
    "plt.show()"
   ]
  },
  {
   "cell_type": "code",
   "execution_count": null,
   "metadata": {
    "trusted": true
   },
   "outputs": [],
   "source": [
    "res = adfuller(total_data['depth_to_groundwater'].values)\n",
    "print(\"Dickey-Fuller test results:\")\n",
    "res"
   ]
  },
  {
   "cell_type": "code",
   "execution_count": null,
   "metadata": {
    "trusted": true
   },
   "outputs": [],
   "source": [
    "f, ax = plt.subplots(nrows=3, ncols=2, figsize=(15, 9))\n",
    "\n",
    "def visualize_adfuller(series, title, ax):\n",
    "    result = adfuller(series)\n",
    "    significance_level = 0.05\n",
    "    adf_stat = result[0]\n",
    "    p_val = result[1]\n",
    "    crit_val_1 = result[4]['1%']\n",
    "    crit_val_5 = result[4]['5%']\n",
    "    crit_val_10 = result[4]['10%']\n",
    "\n",
    "    if (p_val < significance_level) & ((adf_stat < crit_val_1)):\n",
    "        linecolor = 'orange' \n",
    "    elif (p_val < significance_level) & (adf_stat < crit_val_5):\n",
    "        linecolor = 'pink'\n",
    "    elif (p_val < significance_level) & (adf_stat < crit_val_10):\n",
    "        linecolor = 'blue'\n",
    "    else:\n",
    "        linecolor = 'red'\n",
    "    sns.lineplot(x=total_data['date'], y=series, ax=ax, color=linecolor)\n",
    "    ax.set_title(f'ADFuller Statistic {adf_stat:0.3f}, p-value: {p_val:0.3f}\\nCritical Values 1%: {crit_val_1:0.3f}, 5%: {crit_val_5:0.3f}, 10%: {crit_val_10:0.3f}', fontsize=14)\n",
    "    ax.set_ylabel(ylabel=title, fontsize=14)\n",
    "\n",
    "visualize_adfuller(total_data['rainfall'].values, 'Rainfall', ax[0, 0])\n",
    "visualize_adfuller(total_data['temperature'].values, 'Temperature', ax[1, 0])\n",
    "visualize_adfuller(total_data['river_hydrometry'].values, 'River_Hydrometry', ax[0, 1])\n",
    "visualize_adfuller(total_data['drainage_volume'].values, 'Drainage_Volume', ax[1, 1])\n",
    "visualize_adfuller(total_data['depth_to_groundwater'].values, 'Depth_to_Groundwater', ax[2, 0])\n",
    "\n",
    "f.delaxes(ax[2, 1])\n",
    "plt.tight_layout()\n",
    "plt.show()"
   ]
  },
  {
   "cell_type": "code",
   "execution_count": null,
   "metadata": {
    "trusted": true
   },
   "outputs": [],
   "source": [
    "total_data['depth_to_groundwater_log'] = np.log(abs(total_data['depth_to_groundwater']))\n",
    "\n",
    "f, ax = plt.subplots(1, 2, figsize=(18, 6))\n",
    "visualize_adfuller(total_data['depth_to_groundwater_log'], 'Transformed \\n Depth to Groundwater', ax[0])\n",
    "\n",
    "sns.distplot(total_data['depth_to_groundwater_log'], ax=ax[1])"
   ]
  },
  {
   "cell_type": "code",
   "execution_count": null,
   "metadata": {
    "trusted": true
   },
   "outputs": [],
   "source": [
    "diff = np.diff(total_data['depth_to_groundwater'])\n",
    "total_data['depth_to_groundwater_diff_1'] = np.append([0], diff)\n",
    "\n",
    "f, ax = plt.subplots(1, 1, figsize=(18, 6))\n",
    "visualize_adfuller(total_data['depth_to_groundwater_diff_1'], 'Differenced \\n Depth to Groundwater', ax)"
   ]
  },
  {
   "cell_type": "markdown",
   "metadata": {},
   "source": [
    "# 5. Feature engineering"
   ]
  },
  {
   "cell_type": "code",
   "execution_count": null,
   "metadata": {
    "trusted": true
   },
   "outputs": [],
   "source": [
    "total_data['year'] = pd.DatetimeIndex(total_data['date']).year\n",
    "total_data['month'] = pd.DatetimeIndex(total_data['date']).month\n",
    "total_data['day'] = pd.DatetimeIndex(total_data['date']).day\n",
    "total_data['day_of_year'] = pd.DatetimeIndex(total_data['date']).dayofyear\n",
    "total_data['week_of_year'] = pd.DatetimeIndex(total_data['date']).isocalendar().week\n",
    "total_data['quarter'] = pd.DatetimeIndex(total_data['date']).quarter\n",
    "total_data['season'] = total_data['month'] % 12 // 3 + 1\n",
    "\n",
    "total_data[['date', 'year', 'month', 'day', 'day_of_year', 'week_of_year', 'quarter', 'season']].head()"
   ]
  },
  {
   "cell_type": "code",
   "execution_count": null,
   "metadata": {
    "trusted": true
   },
   "outputs": [],
   "source": [
    "fig, ax = plt.subplots(1, 1, figsize=(18, 5))\n",
    "\n",
    "sns.lineplot(x=total_data['date'], y=total_data['month'], color='orange')\n",
    "ax.set_xlim([date(2009, 1, 1), date(2020, 6, 30)])\n",
    "plt.show()"
   ]
  },
  {
   "cell_type": "code",
   "execution_count": null,
   "metadata": {
    "trusted": true
   },
   "outputs": [],
   "source": [
    "month_in_year = 12\n",
    "total_data['month_sin'] = np.sin(2*np.pi*total_data['month']/month_in_year)\n",
    "total_data['month_cos'] = np.cos(2*np.pi*total_data['month']/month_in_year)\n",
    "\n",
    "fig, ax = plt.subplots(1, 1, figsize=(7, 7))\n",
    "\n",
    "sns.scatterplot(x=total_data.month_sin, y=total_data.month_cos, color='orange')\n",
    "plt.show()"
   ]
  },
  {
   "cell_type": "code",
   "execution_count": null,
   "metadata": {
    "trusted": true
   },
   "outputs": [],
   "source": [
    "main_columns =  [\n",
    "    'rainfall', 'temperature', 'drainage_volume', \n",
    "    'river_hydrometry', 'depth_to_groundwater'\n",
    "]\n",
    "\n",
    "for column in main_columns:\n",
    "    decomp = seasonal_decompose(total_data[column], period=52, model='additive', extrapolate_trend='freq')\n",
    "    total_data[f\"{column}_trend\"] = decomp.trend\n",
    "    total_data[f\"{column}_seasonal\"] = decomp.seasonal"
   ]
  },
  {
   "cell_type": "code",
   "execution_count": null,
   "metadata": {
    "trusted": true
   },
   "outputs": [],
   "source": [
    "fig, ax = plt.subplots(4, 2, figsize=(16, 8))\n",
    "\n",
    "for i, column in enumerate(['temperature', 'depth_to_groundwater']):\n",
    "    ts_data = total_data[column].dropna()\n",
    "\n",
    "    res = seasonal_decompose(ts_data, period=52, model='additive', extrapolate_trend='freq')\n",
    "\n",
    "    ax[0, i].set_title(f'Decomposition of {column}', fontsize=14)\n",
    "    res.observed.plot(ax=ax[0, i], legend=False, color='orange')\n",
    "    res.trend.plot(ax=ax[1, i], legend=False, color='blue')\n",
    "    res.seasonal.plot(ax=ax[2, i], legend=False, color='green')\n",
    "    res.resid.plot(ax=ax[3, i], legend=False, color='red')\n",
    "\n",
    "plt.tight_layout()\n",
    "plt.show()"
   ]
  },
  {
   "cell_type": "code",
   "execution_count": null,
   "metadata": {
    "trusted": true
   },
   "outputs": [],
   "source": [
    "weeks_in_month = 4\n",
    "\n",
    "for column in main_columns:\n",
    "    total_data[f'{column}_seasonal_shift_b_2m'] = total_data[f'{column}_seasonal'].shift(-2 * weeks_in_month)\n",
    "    total_data[f'{column}_seasonal_shift_b_1m'] = total_data[f'{column}_seasonal'].shift(-1 * weeks_in_month)\n",
    "    total_data[f'{column}_seasonal_shift_1m'] = total_data[f'{column}_seasonal'].shift(1 * weeks_in_month)\n",
    "    total_data[f'{column}_seasonal_shift_2m'] = total_data[f'{column}_seasonal'].shift(2 * weeks_in_month)\n",
    "    total_data[f'{column}_seasonal_shift_3m'] = total_data[f'{column}_seasonal'].shift(3 * weeks_in_month)"
   ]
  },
  {
   "cell_type": "markdown",
   "metadata": {},
   "source": [
    "# 6. EDA analysis"
   ]
  },
  {
   "cell_type": "code",
   "execution_count": null,
   "metadata": {
    "trusted": true
   },
   "outputs": [],
   "source": [
    "fig, ax = plt.subplots(5, 1, figsize=(15, 12))\n",
    "f.suptitle('Seasonal Components of Features', fontsize=16)\n",
    "\n",
    "for i, column in enumerate(main_columns):\n",
    "    sns.lineplot(x=total_data['date'], y=total_data[column + '_seasonal'], ax=ax[i], color='orange', label='P25')\n",
    "    ax[i].set_ylabel(ylabel=column, fontsize=14)\n",
    "    ax[i].set_xlim([date(2017, 9, 30), date(2020, 6, 30)])\n",
    "    \n",
    "plt.tight_layout()\n",
    "plt.show()"
   ]
  },
  {
   "cell_type": "code",
   "execution_count": null,
   "metadata": {
    "trusted": true
   },
   "outputs": [],
   "source": [
    "fig, ax = plt.subplots(1, 2, figsize=(18, 9))\n",
    "\n",
    "matrix = total_data[main_columns].corr()\n",
    "\n",
    "sns.heatmap(matrix, annot=True, vmin=-1, vmax=1, cmap='coolwarm_r', ax=ax[0])\n",
    "ax[0].set_title('Correlation Matrix - Main Characterictics', fontsize=16)\n",
    "\n",
    "changed_cols = [\n",
    "    'depth_to_groundwater_seasonal',         \n",
    "    'temperature_seasonal_shift_b_2m',\n",
    "    'drainage_volume_seasonal_shift_2m', \n",
    "    'river_hydrometry_seasonal_shift_3m'\n",
    "]\n",
    "matrix = total_data[changed_cols].corr()\n",
    "\n",
    "sns.heatmap(matrix, annot=True, vmin=-1, vmax=1, cmap='coolwarm_r', ax=ax[1])\n",
    "ax[1].set_title('Correlation Matrix', fontsize=16)\n",
    "\n",
    "\n",
    "plt.tight_layout()\n",
    "plt.show()"
   ]
  },
  {
   "cell_type": "code",
   "execution_count": null,
   "metadata": {
    "trusted": true
   },
   "outputs": [],
   "source": [
    "fig, ax = plt.subplots(2, 1, figsize=(18, 9))\n",
    "\n",
    "plot_acf(total_data['depth_to_groundwater_diff_1'], lags=100, ax=ax[0])\n",
    "plot_pacf(total_data['depth_to_groundwater_diff_1'], lags=100, ax=ax[1])\n",
    "\n",
    "plt.show()"
   ]
  },
  {
   "cell_type": "code",
   "execution_count": null,
   "metadata": {
    "trusted": true
   },
   "outputs": [],
   "source": [
    "n_spl = 3\n",
    "\n",
    "X = total_data['date']\n",
    "y = total_data['depth_to_groundwater']\n",
    "\n",
    "folds = TimeSeriesSplit(n_splits=n_spl)"
   ]
  },
  {
   "cell_type": "code",
   "execution_count": null,
   "metadata": {
    "trusted": true
   },
   "outputs": [],
   "source": [
    "fig, ax = plt.subplots(n_spl, 2, figsize=(18, 9))\n",
    "\n",
    "for i, (train_index, valid_index) in enumerate(folds.split(X)):\n",
    "    X_train, X_valid = X[train_index], X[valid_index]\n",
    "    y_train, y_valid = y[train_index], y[valid_index]\n",
    "\n",
    "    sns.lineplot(\n",
    "        x=X_train, \n",
    "        y=y_train, \n",
    "        ax=ax[i,0], \n",
    "        color='orange', \n",
    "        label='train'\n",
    "    )\n",
    "    sns.lineplot(\n",
    "        x=X_train[len(X_train) - len(X_valid):(len(X_train) - len(X_valid) + len(X_valid))], \n",
    "        y=y_train[len(X_train) - len(X_valid):(len(X_train) - len(X_valid) + len(X_valid))], \n",
    "        ax=ax[i,1], \n",
    "        color='red', \n",
    "        label='train'\n",
    "    )\n",
    "\n",
    "    for j in range(2):\n",
    "        sns.lineplot(x= X_valid, y= y_valid, ax=ax[i, j], color='green', label='validation')\n",
    "    ax[i, 0].set_title(f\"Rolling Window with Adjusting Training Size (Split {i+1})\", fontsize=16)\n",
    "    ax[i, 1].set_title(f\"Rolling Window with Constant Training Size (Split {i+1})\", fontsize=16)\n",
    "\n",
    "for i in range(n_spl):\n",
    "    ax[i, 0].set_xlim([date(2009, 1, 1), date(2020, 6, 30)])\n",
    "    ax[i, 1].set_xlim([date(2009, 1, 1), date(2020, 6, 30)])\n",
    "    \n",
    "plt.tight_layout()\n",
    "plt.show()"
   ]
  },
  {
   "cell_type": "code",
   "execution_count": null,
   "metadata": {
    "trusted": true
   },
   "outputs": [],
   "source": [
    "train_size = int(0.85 * len(df))\n",
    "test_size = len(df) - train_size\n",
    "\n",
    "univar = total_data[['date', 'depth_to_groundwater']].copy()\n",
    "univar.columns = ['ds', 'y']\n",
    "\n",
    "train = univar.iloc[:train_size, :]\n",
    "\n",
    "x_train, y_train = pd.DataFrame(univar.iloc[:train_size, 0]), pd.DataFrame(univar.iloc[:train_size, 1])\n",
    "x_valid, y_valid = pd.DataFrame(univar.iloc[train_size:, 0]), pd.DataFrame(univar.iloc[train_size:, 1])\n",
    "\n",
    "print(len(train), len(x_valid))"
   ]
  },
  {
   "cell_type": "code",
   "execution_count": null,
   "metadata": {
    "trusted": true
   },
   "outputs": [],
   "source": [
    "!pip install pmdarima"
   ]
  },
  {
   "cell_type": "code",
   "execution_count": null,
   "metadata": {
    "trusted": true
   },
   "outputs": [],
   "source": [
    "from pmdarima import auto_arima\n",
    "\n",
    "model = auto_arima(total_data, seasonal = False, trace = True)"
   ]
  },
  {
   "cell_type": "code",
   "execution_count": null,
   "metadata": {
    "trusted": true
   },
   "outputs": [],
   "source": [
    "forecast = model.predict(60)\n",
    "forecast"
   ]
  },
  {
   "cell_type": "code",
   "execution_count": null,
   "metadata": {
    "trusted": true
   },
   "outputs": [],
   "source": [
    "fig, ax = plt.subplots(figsize = (12, 6))\n",
    "fig.suptitle(\"Future predictions\", fontsize=16)\n",
    "\n",
    "sns.lineplot(data = total_data, color = \"red\")\n",
    "sns.lineplot(data = forecast, c = \"blue\")\n",
    "\n",
    "plt.tight_layout()\n",
    "plt.show()"
   ]
  }
 ],
 "metadata": {
  "kaggle": {
   "accelerator": "none",
   "dataSources": [
    {
     "databundleVersionId": 1894096,
     "sourceId": 24191,
     "sourceType": "competition"
    }
   ],
   "dockerImageVersionId": 30786,
   "isGpuEnabled": false,
   "isInternetEnabled": false,
   "language": "python",
   "sourceType": "notebook"
  },
  "kernelspec": {
   "display_name": "Python 3",
   "language": "python",
   "name": "python3"
  },
  "language_info": {
   "codemirror_mode": {
    "name": "ipython",
    "version": 3
   },
   "file_extension": ".py",
   "mimetype": "text/x-python",
   "name": "python",
   "nbconvert_exporter": "python",
   "pygments_lexer": "ipython3",
   "version": "3.12.6"
  }
 },
 "nbformat": 4,
 "nbformat_minor": 4
}
